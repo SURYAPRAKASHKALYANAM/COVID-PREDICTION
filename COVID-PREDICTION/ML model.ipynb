{
 "cells": [
  {
   "cell_type": "code",
   "execution_count": 1,
   "id": "50319b0a",
   "metadata": {},
   "outputs": [
    {
     "ename": "ModuleNotFoundError",
     "evalue": "No module named 'pandas'",
     "output_type": "error",
     "traceback": [
      "\u001b[1;31m---------------------------------------------------------------------------\u001b[0m",
      "\u001b[1;31mModuleNotFoundError\u001b[0m                       Traceback (most recent call last)",
      "\u001b[1;32ma:\\Data Science\\Projects\\hackathon 1\\ML model.ipynb Cell 1\u001b[0m in \u001b[0;36m<cell line: 1>\u001b[1;34m()\u001b[0m\n\u001b[1;32m----> <a href='vscode-notebook-cell:/a%3A/Data%20Science/Projects/hackathon%201/ML%20model.ipynb#W0sZmlsZQ%3D%3D?line=0'>1</a>\u001b[0m \u001b[39mimport\u001b[39;00m \u001b[39mpandas\u001b[39;00m \u001b[39mas\u001b[39;00m \u001b[39mpd\u001b[39;00m\n\u001b[0;32m      <a href='vscode-notebook-cell:/a%3A/Data%20Science/Projects/hackathon%201/ML%20model.ipynb#W0sZmlsZQ%3D%3D?line=1'>2</a>\u001b[0m \u001b[39mimport\u001b[39;00m \u001b[39mnumpy\u001b[39;00m \u001b[39mas\u001b[39;00m \u001b[39mnp\u001b[39;00m\n\u001b[0;32m      <a href='vscode-notebook-cell:/a%3A/Data%20Science/Projects/hackathon%201/ML%20model.ipynb#W0sZmlsZQ%3D%3D?line=2'>3</a>\u001b[0m data\u001b[39m=\u001b[39mpd\u001b[39m.\u001b[39mread_csv(\u001b[39mr\u001b[39m\u001b[39m\"\u001b[39m\u001b[39mtraindataset.csv\u001b[39m\u001b[39m\"\u001b[39m)\n",
      "\u001b[1;31mModuleNotFoundError\u001b[0m: No module named 'pandas'"
     ]
    }
   ],
   "source": [
    "import pandas as pd\n",
    "import numpy as np\n",
    "data=pd.read_csv(r\"traindataset.csv\")\n",
    "data\n"
   ]
  },
  {
   "cell_type": "code",
   "execution_count": 4,
   "id": "35e38bfd",
   "metadata": {},
   "outputs": [
    {
     "ename": "NameError",
     "evalue": "name 'pd' is not defined",
     "output_type": "error",
     "traceback": [
      "\u001b[1;31m---------------------------------------------------------------------------\u001b[0m",
      "\u001b[1;31mNameError\u001b[0m                                 Traceback (most recent call last)",
      "\u001b[1;32ma:\\Data Science\\ML\\hackathon 1\\ML model.ipynb Cell 2\u001b[0m in \u001b[0;36m<cell line: 1>\u001b[1;34m()\u001b[0m\n\u001b[1;32m----> <a href='vscode-notebook-cell:/a%3A/Data%20Science/ML/hackathon%201/ML%20model.ipynb#ch0000001?line=0'>1</a>\u001b[0m data[\u001b[39m'\u001b[39m\u001b[39mLymphocytes\u001b[39m\u001b[39m'\u001b[39m]\u001b[39m=\u001b[39m pd\u001b[39m.\u001b[39mto_numeric(data[\u001b[39m'\u001b[39m\u001b[39mLymphocytes\u001b[39m\u001b[39m'\u001b[39m], errors\u001b[39m=\u001b[39m\u001b[39m'\u001b[39m\u001b[39mcoerce\u001b[39m\u001b[39m'\u001b[39m)\n\u001b[0;32m      <a href='vscode-notebook-cell:/a%3A/Data%20Science/ML/hackathon%201/ML%20model.ipynb#ch0000001?line=2'>3</a>\u001b[0m data\n",
      "\u001b[1;31mNameError\u001b[0m: name 'pd' is not defined"
     ]
    }
   ],
   "source": [
    "data['Lymphocytes']= pd.to_numeric(data['Lymphocytes'], errors='coerce')\n",
    "\n",
    "data"
   ]
  },
  {
   "cell_type": "code",
   "execution_count": null,
   "id": "f7899bee",
   "metadata": {},
   "outputs": [
    {
     "ename": "NameError",
     "evalue": "name 'data' is not defined",
     "output_type": "error",
     "traceback": [
      "\u001b[1;31m---------------------------------------------------------------------------\u001b[0m",
      "\u001b[1;31mNameError\u001b[0m                                 Traceback (most recent call last)",
      "\u001b[1;32ma:\\Data Science\\ML\\hackathon 1\\ML model.ipynb Cell 3'\u001b[0m in \u001b[0;36m<cell line: 1>\u001b[1;34m()\u001b[0m\n\u001b[1;32m----> <a href='vscode-notebook-cell:/a%3A/Data%20Science/ML/hackathon%201/ML%20model.ipynb#ch0000002?line=0'>1</a>\u001b[0m data[\u001b[39m'\u001b[39m\u001b[39mNeutrophils\u001b[39m\u001b[39m'\u001b[39m]\u001b[39m=\u001b[39mdata[\u001b[39m'\u001b[39m\u001b[39mNeutrophils\u001b[39m\u001b[39m'\u001b[39m]\u001b[39m.\u001b[39mfillna(data[\u001b[39m'\u001b[39m\u001b[39mNeutrophils\u001b[39m\u001b[39m'\u001b[39m]\u001b[39m.\u001b[39mmean())\n\u001b[0;32m      <a href='vscode-notebook-cell:/a%3A/Data%20Science/ML/hackathon%201/ML%20model.ipynb#ch0000002?line=1'>2</a>\u001b[0m data[\u001b[39m'\u001b[39m\u001b[39mLymphocytes\u001b[39m\u001b[39m'\u001b[39m]\u001b[39m=\u001b[39mdata[\u001b[39m'\u001b[39m\u001b[39mLymphocytes\u001b[39m\u001b[39m'\u001b[39m]\u001b[39m.\u001b[39mfillna(data[\u001b[39m'\u001b[39m\u001b[39mLymphocytes\u001b[39m\u001b[39m'\u001b[39m]\u001b[39m.\u001b[39mmean())\n\u001b[0;32m      <a href='vscode-notebook-cell:/a%3A/Data%20Science/ML/hackathon%201/ML%20model.ipynb#ch0000002?line=2'>3</a>\u001b[0m data[\u001b[39m\"\u001b[39m\u001b[39mMonocytes\u001b[39m\u001b[39m\"\u001b[39m] \u001b[39m=\u001b[39m data[\u001b[39m\"\u001b[39m\u001b[39mMonocytes\u001b[39m\u001b[39m\"\u001b[39m]\u001b[39m.\u001b[39mreplace(np\u001b[39m.\u001b[39mNaN, data[\u001b[39m\"\u001b[39m\u001b[39mMonocytes\u001b[39m\u001b[39m\"\u001b[39m]\u001b[39m.\u001b[39mmean())\n",
      "\u001b[1;31mNameError\u001b[0m: name 'data' is not defined"
     ]
    }
   ],
   "source": [
    "data['Neutrophils']=data['Neutrophils'].fillna(data['Neutrophils'].mean())\n",
    "data['Lymphocytes']=data['Lymphocytes'].fillna(data['Lymphocytes'].mean())\n",
    "data[\"Monocytes\"] = data[\"Monocytes\"].replace(np.NaN, data[\"Monocytes\"].mean())\n",
    "data['Eosinophils']=data['Eosinophils'].fillna(data['Eosinophils'].mean())\n",
    "data['Basophils']=data['Basophils'].fillna(data['Basophils'].mean())\n",
    "data['CRP']=data['CRP'].fillna(data['CRP'].mean())\n",
    "data['WBC']=data['WBC'].fillna(data['WBC'].mean())\n",
    "data['Platelets']=data['Platelets'].fillna(data['Platelets'].mean())\n",
    "data['AST']=data['AST'].fillna(data['AST'].mean())\n",
    "data['ALT']=data['ALT'].fillna(data['ALT'].mean())\n",
    "data['ALP']=data['ALP'].fillna(data['ALP'].mean())\n",
    "data['GGT']=data['GGT'].fillna(data['GGT'].mean())\n",
    "data['LDH']=data['LDH'].fillna(data['LDH'].mean())\n",
    "\n",
    "data"
   ]
  },
  {
   "cell_type": "code",
   "execution_count": null,
   "id": "87e66238",
   "metadata": {},
   "outputs": [
    {
     "ename": "ModuleNotFoundError",
     "evalue": "No module named 'sklearn'",
     "output_type": "error",
     "traceback": [
      "\u001b[1;31m---------------------------------------------------------------------------\u001b[0m",
      "\u001b[1;31mModuleNotFoundError\u001b[0m                       Traceback (most recent call last)",
      "\u001b[1;32ma:\\Data Science\\ML\\hackathon 1\\ML model.ipynb Cell 4'\u001b[0m in \u001b[0;36m<cell line: 1>\u001b[1;34m()\u001b[0m\n\u001b[1;32m----> <a href='vscode-notebook-cell:/a%3A/Data%20Science/ML/hackathon%201/ML%20model.ipynb#ch0000003?line=0'>1</a>\u001b[0m \u001b[39mfrom\u001b[39;00m \u001b[39msklearn\u001b[39;00m \u001b[39mimport\u001b[39;00m preprocessing\n\u001b[0;32m      <a href='vscode-notebook-cell:/a%3A/Data%20Science/ML/hackathon%201/ML%20model.ipynb#ch0000003?line=1'>2</a>\u001b[0m label_encoder \u001b[39m=\u001b[39m preprocessing\u001b[39m.\u001b[39mLabelEncoder()\n\u001b[0;32m      <a href='vscode-notebook-cell:/a%3A/Data%20Science/ML/hackathon%201/ML%20model.ipynb#ch0000003?line=2'>3</a>\u001b[0m data[\u001b[39m'\u001b[39m\u001b[39mGENDER\u001b[39m\u001b[39m'\u001b[39m]\u001b[39m=\u001b[39mlabel_encoder\u001b[39m.\u001b[39mfit_transform(data[\u001b[39m'\u001b[39m\u001b[39mGENDER\u001b[39m\u001b[39m'\u001b[39m])\n",
      "\u001b[1;31mModuleNotFoundError\u001b[0m: No module named 'sklearn'"
     ]
    }
   ],
   "source": [
    "from sklearn import preprocessing\n",
    "label_encoder = preprocessing.LabelEncoder()\n",
    "data['GENDER']=label_encoder.fit_transform(data['GENDER'])\n",
    "data\n"
   ]
  },
  {
   "cell_type": "code",
   "execution_count": null,
   "id": "aa5e4870",
   "metadata": {},
   "outputs": [
    {
     "ename": "ModuleNotFoundError",
     "evalue": "No module named 'sklearn'",
     "output_type": "error",
     "traceback": [
      "\u001b[1;31m---------------------------------------------------------------------------\u001b[0m",
      "\u001b[1;31mModuleNotFoundError\u001b[0m                       Traceback (most recent call last)",
      "\u001b[1;32ma:\\Data Science\\ML\\hackathon 1\\ML model.ipynb Cell 5'\u001b[0m in \u001b[0;36m<cell line: 1>\u001b[1;34m()\u001b[0m\n\u001b[1;32m----> <a href='vscode-notebook-cell:/a%3A/Data%20Science/ML/hackathon%201/ML%20model.ipynb#ch0000004?line=0'>1</a>\u001b[0m \u001b[39mfrom\u001b[39;00m \u001b[39msklearn\u001b[39;00m\u001b[39m.\u001b[39;00m\u001b[39mtree\u001b[39;00m \u001b[39mimport\u001b[39;00m DecisionTreeClassifier\n\u001b[0;32m      <a href='vscode-notebook-cell:/a%3A/Data%20Science/ML/hackathon%201/ML%20model.ipynb#ch0000004?line=1'>2</a>\u001b[0m \u001b[39mfrom\u001b[39;00m \u001b[39msklearn\u001b[39;00m\u001b[39m.\u001b[39;00m\u001b[39mensemble\u001b[39;00m \u001b[39mimport\u001b[39;00m RandomForestClassifier\n\u001b[0;32m      <a href='vscode-notebook-cell:/a%3A/Data%20Science/ML/hackathon%201/ML%20model.ipynb#ch0000004?line=2'>3</a>\u001b[0m \u001b[39mfrom\u001b[39;00m \u001b[39msklearn\u001b[39;00m\u001b[39m.\u001b[39;00m\u001b[39mlinear_model\u001b[39;00m \u001b[39mimport\u001b[39;00m LogisticRegression\n",
      "\u001b[1;31mModuleNotFoundError\u001b[0m: No module named 'sklearn'"
     ]
    }
   ],
   "source": [
    "from sklearn.tree import DecisionTreeClassifier\n",
    "from sklearn.ensemble import RandomForestClassifier\n",
    "from sklearn.linear_model import LogisticRegression\n",
    "from sklearn.model_selection import train_test_split\n",
    "from sklearn.metrics import accuracy_score"
   ]
  },
  {
   "cell_type": "code",
   "execution_count": null,
   "id": "6f9a76a8",
   "metadata": {},
   "outputs": [
    {
     "ename": "ModuleNotFoundError",
     "evalue": "No module named 'sklearn'",
     "output_type": "error",
     "traceback": [
      "\u001b[1;31m---------------------------------------------------------------------------\u001b[0m",
      "\u001b[1;31mModuleNotFoundError\u001b[0m                       Traceback (most recent call last)",
      "\u001b[1;32ma:\\Data Science\\ML\\hackathon 1\\ML model.ipynb Cell 6'\u001b[0m in \u001b[0;36m<cell line: 1>\u001b[1;34m()\u001b[0m\n\u001b[1;32m----> <a href='vscode-notebook-cell:/a%3A/Data%20Science/ML/hackathon%201/ML%20model.ipynb#ch0000005?line=0'>1</a>\u001b[0m \u001b[39mfrom\u001b[39;00m \u001b[39msklearn\u001b[39;00m\u001b[39m.\u001b[39;00m\u001b[39mdiscriminant_analysis\u001b[39;00m \u001b[39mimport\u001b[39;00m LinearDiscriminantAnalysis\n\u001b[0;32m      <a href='vscode-notebook-cell:/a%3A/Data%20Science/ML/hackathon%201/ML%20model.ipynb#ch0000005?line=1'>2</a>\u001b[0m \u001b[39mfrom\u001b[39;00m \u001b[39msklearn\u001b[39;00m\u001b[39m.\u001b[39;00m\u001b[39mneighbors\u001b[39;00m \u001b[39mimport\u001b[39;00m KNeighborsClassifier\n\u001b[0;32m      <a href='vscode-notebook-cell:/a%3A/Data%20Science/ML/hackathon%201/ML%20model.ipynb#ch0000005?line=2'>3</a>\u001b[0m \u001b[39mfrom\u001b[39;00m \u001b[39msklearn\u001b[39;00m\u001b[39m.\u001b[39;00m\u001b[39mnaive_bayes\u001b[39;00m \u001b[39mimport\u001b[39;00m GaussianNB\n",
      "\u001b[1;31mModuleNotFoundError\u001b[0m: No module named 'sklearn'"
     ]
    }
   ],
   "source": [
    "from sklearn.discriminant_analysis import LinearDiscriminantAnalysis\n",
    "from sklearn.neighbors import KNeighborsClassifier\n",
    "from sklearn.naive_bayes import GaussianNB\n",
    "from sklearn.svm import SVC"
   ]
  },
  {
   "cell_type": "code",
   "execution_count": null,
   "id": "0b72e864",
   "metadata": {},
   "outputs": [
    {
     "ename": "NameError",
     "evalue": "name 'data' is not defined",
     "output_type": "error",
     "traceback": [
      "\u001b[1;31m---------------------------------------------------------------------------\u001b[0m",
      "\u001b[1;31mNameError\u001b[0m                                 Traceback (most recent call last)",
      "\u001b[1;32ma:\\Data Science\\ML\\hackathon 1\\ML model.ipynb Cell 7'\u001b[0m in \u001b[0;36m<cell line: 1>\u001b[1;34m()\u001b[0m\n\u001b[1;32m----> <a href='vscode-notebook-cell:/a%3A/Data%20Science/ML/hackathon%201/ML%20model.ipynb#ch0000006?line=0'>1</a>\u001b[0m X \u001b[39m=\u001b[39m data\u001b[39m.\u001b[39mdrop(columns\u001b[39m=\u001b[39m[\u001b[39m'\u001b[39m\u001b[39mClass\u001b[39m\u001b[39m'\u001b[39m])\n\u001b[0;32m      <a href='vscode-notebook-cell:/a%3A/Data%20Science/ML/hackathon%201/ML%20model.ipynb#ch0000006?line=1'>2</a>\u001b[0m Y \u001b[39m=\u001b[39m data[\u001b[39m'\u001b[39m\u001b[39mClass\u001b[39m\u001b[39m'\u001b[39m]\n\u001b[0;32m      <a href='vscode-notebook-cell:/a%3A/Data%20Science/ML/hackathon%201/ML%20model.ipynb#ch0000006?line=3'>4</a>\u001b[0m X_train,X_test,Y_train,Y_test\u001b[39m=\u001b[39mtrain_test_split(X,Y,test_size\u001b[39m=\u001b[39m\u001b[39m0.15\u001b[39m,random_state\u001b[39m=\u001b[39m\u001b[39m45\u001b[39m)\n",
      "\u001b[1;31mNameError\u001b[0m: name 'data' is not defined"
     ]
    }
   ],
   "source": [
    "X = data.drop(columns=['Class'])\n",
    "Y = data['Class']\n",
    "\n",
    "X_train,X_test,Y_train,Y_test=train_test_split(X,Y,test_size=0.15,random_state=45)\n",
    "\n",
    "model=DecisionTreeClassifier()\n",
    "model.fit(X_train,Y_train)\n",
    "prediction=model.predict(X_test)\n",
    "\n",
    "score=accuracy_score(Y_test,prediction)\n",
    "score"
   ]
  },
  {
   "cell_type": "code",
   "execution_count": null,
   "id": "a5c1114b",
   "metadata": {},
   "outputs": [
    {
     "ename": "NameError",
     "evalue": "name 'data' is not defined",
     "output_type": "error",
     "traceback": [
      "\u001b[1;31m---------------------------------------------------------------------------\u001b[0m",
      "\u001b[1;31mNameError\u001b[0m                                 Traceback (most recent call last)",
      "\u001b[1;32ma:\\Data Science\\ML\\hackathon 1\\ML model.ipynb Cell 8'\u001b[0m in \u001b[0;36m<cell line: 1>\u001b[1;34m()\u001b[0m\n\u001b[1;32m----> <a href='vscode-notebook-cell:/a%3A/Data%20Science/ML/hackathon%201/ML%20model.ipynb#ch0000007?line=0'>1</a>\u001b[0m X \u001b[39m=\u001b[39m data\u001b[39m.\u001b[39mdrop(columns\u001b[39m=\u001b[39m[\u001b[39m'\u001b[39m\u001b[39mClass\u001b[39m\u001b[39m'\u001b[39m])\n\u001b[0;32m      <a href='vscode-notebook-cell:/a%3A/Data%20Science/ML/hackathon%201/ML%20model.ipynb#ch0000007?line=1'>2</a>\u001b[0m Y \u001b[39m=\u001b[39m data[\u001b[39m'\u001b[39m\u001b[39mClass\u001b[39m\u001b[39m'\u001b[39m]\n\u001b[0;32m      <a href='vscode-notebook-cell:/a%3A/Data%20Science/ML/hackathon%201/ML%20model.ipynb#ch0000007?line=3'>4</a>\u001b[0m X_train,X_test,Y_train,Y_test\u001b[39m=\u001b[39mtrain_test_split(X,Y,test_size\u001b[39m=\u001b[39m\u001b[39m0.15\u001b[39m,random_state\u001b[39m=\u001b[39m\u001b[39m50\u001b[39m)\n",
      "\u001b[1;31mNameError\u001b[0m: name 'data' is not defined"
     ]
    }
   ],
   "source": [
    "X = data.drop(columns=['Class'])\n",
    "Y = data['Class']\n",
    "\n",
    "X_train,X_test,Y_train,Y_test=train_test_split(X,Y,test_size=0.15,random_state=50)\n",
    "\n",
    "model=RandomForestClassifier()\n",
    "model.fit(X_train,Y_train)\n",
    "prediction=model.predict(X_test)\n",
    "score=accuracy_score(Y_test,prediction)\n",
    "score"
   ]
  },
  {
   "cell_type": "code",
   "execution_count": null,
   "id": "48070e74",
   "metadata": {},
   "outputs": [
    {
     "ename": "NameError",
     "evalue": "name 'data' is not defined",
     "output_type": "error",
     "traceback": [
      "\u001b[1;31m---------------------------------------------------------------------------\u001b[0m",
      "\u001b[1;31mNameError\u001b[0m                                 Traceback (most recent call last)",
      "\u001b[1;32ma:\\Data Science\\ML\\hackathon 1\\ML model.ipynb Cell 9'\u001b[0m in \u001b[0;36m<cell line: 1>\u001b[1;34m()\u001b[0m\n\u001b[1;32m----> <a href='vscode-notebook-cell:/a%3A/Data%20Science/ML/hackathon%201/ML%20model.ipynb#ch0000008?line=0'>1</a>\u001b[0m X \u001b[39m=\u001b[39m data\u001b[39m.\u001b[39mdrop(columns\u001b[39m=\u001b[39m[\u001b[39m'\u001b[39m\u001b[39mClass\u001b[39m\u001b[39m'\u001b[39m])\n\u001b[0;32m      <a href='vscode-notebook-cell:/a%3A/Data%20Science/ML/hackathon%201/ML%20model.ipynb#ch0000008?line=1'>2</a>\u001b[0m Y \u001b[39m=\u001b[39m data[\u001b[39m'\u001b[39m\u001b[39mClass\u001b[39m\u001b[39m'\u001b[39m]\n\u001b[0;32m      <a href='vscode-notebook-cell:/a%3A/Data%20Science/ML/hackathon%201/ML%20model.ipynb#ch0000008?line=3'>4</a>\u001b[0m X_train,X_test,Y_train,Y_test\u001b[39m=\u001b[39mtrain_test_split(X,Y,test_size\u001b[39m=\u001b[39m\u001b[39m0.2\u001b[39m,random_state\u001b[39m=\u001b[39m\u001b[39m45\u001b[39m)\n",
      "\u001b[1;31mNameError\u001b[0m: name 'data' is not defined"
     ]
    }
   ],
   "source": [
    "X = data.drop(columns=['Class'])\n",
    "Y = data['Class']\n",
    "\n",
    "X_train,X_test,Y_train,Y_test=train_test_split(X,Y,test_size=0.2,random_state=45)\n",
    "\n",
    "model= LogisticRegression()\n",
    "model.fit(X_train,Y_train)\n",
    "prediction=model.predict(X_test)\n",
    "\n",
    "score=accuracy_score(Y_test,prediction)\n",
    "score"
   ]
  },
  {
   "cell_type": "code",
   "execution_count": null,
   "id": "fd5bf67d",
   "metadata": {},
   "outputs": [
    {
     "ename": "NameError",
     "evalue": "name 'data' is not defined",
     "output_type": "error",
     "traceback": [
      "\u001b[1;31m---------------------------------------------------------------------------\u001b[0m",
      "\u001b[1;31mNameError\u001b[0m                                 Traceback (most recent call last)",
      "\u001b[1;32ma:\\Data Science\\ML\\hackathon 1\\ML model.ipynb Cell 10'\u001b[0m in \u001b[0;36m<cell line: 1>\u001b[1;34m()\u001b[0m\n\u001b[1;32m----> <a href='vscode-notebook-cell:/a%3A/Data%20Science/ML/hackathon%201/ML%20model.ipynb#ch0000009?line=0'>1</a>\u001b[0m X \u001b[39m=\u001b[39m data\u001b[39m.\u001b[39mdrop(columns\u001b[39m=\u001b[39m[\u001b[39m'\u001b[39m\u001b[39mClass\u001b[39m\u001b[39m'\u001b[39m])\n\u001b[0;32m      <a href='vscode-notebook-cell:/a%3A/Data%20Science/ML/hackathon%201/ML%20model.ipynb#ch0000009?line=1'>2</a>\u001b[0m Y \u001b[39m=\u001b[39m data[\u001b[39m'\u001b[39m\u001b[39mClass\u001b[39m\u001b[39m'\u001b[39m]\n\u001b[0;32m      <a href='vscode-notebook-cell:/a%3A/Data%20Science/ML/hackathon%201/ML%20model.ipynb#ch0000009?line=3'>4</a>\u001b[0m X_train,X_test,Y_train,Y_test\u001b[39m=\u001b[39mtrain_test_split(X,Y,test_size\u001b[39m=\u001b[39m\u001b[39m0.15\u001b[39m,random_state\u001b[39m=\u001b[39m\u001b[39m50\u001b[39m)\n",
      "\u001b[1;31mNameError\u001b[0m: name 'data' is not defined"
     ]
    }
   ],
   "source": [
    "X = data.drop(columns=['Class'])\n",
    "Y = data['Class']\n",
    "\n",
    "X_train,X_test,Y_train,Y_test=train_test_split(X,Y,test_size=0.15,random_state=50)\n",
    "\n",
    "model=LinearDiscriminantAnalysis()\n",
    "model.fit(X_train,Y_train)\n",
    "prediction=model.predict(X_test)\n",
    "\n",
    "score=accuracy_score(Y_test,prediction)\n",
    "score"
   ]
  },
  {
   "cell_type": "code",
   "execution_count": null,
   "id": "7e6a6f44",
   "metadata": {},
   "outputs": [
    {
     "ename": "NameError",
     "evalue": "name 'data' is not defined",
     "output_type": "error",
     "traceback": [
      "\u001b[1;31m---------------------------------------------------------------------------\u001b[0m",
      "\u001b[1;31mNameError\u001b[0m                                 Traceback (most recent call last)",
      "\u001b[1;32ma:\\Data Science\\ML\\hackathon 1\\ML model.ipynb Cell 11'\u001b[0m in \u001b[0;36m<cell line: 1>\u001b[1;34m()\u001b[0m\n\u001b[1;32m----> <a href='vscode-notebook-cell:/a%3A/Data%20Science/ML/hackathon%201/ML%20model.ipynb#ch0000010?line=0'>1</a>\u001b[0m X \u001b[39m=\u001b[39m data\u001b[39m.\u001b[39mdrop(columns\u001b[39m=\u001b[39m[\u001b[39m'\u001b[39m\u001b[39mClass\u001b[39m\u001b[39m'\u001b[39m])\n\u001b[0;32m      <a href='vscode-notebook-cell:/a%3A/Data%20Science/ML/hackathon%201/ML%20model.ipynb#ch0000010?line=1'>2</a>\u001b[0m Y \u001b[39m=\u001b[39m data[\u001b[39m'\u001b[39m\u001b[39mClass\u001b[39m\u001b[39m'\u001b[39m]\n\u001b[0;32m      <a href='vscode-notebook-cell:/a%3A/Data%20Science/ML/hackathon%201/ML%20model.ipynb#ch0000010?line=3'>4</a>\u001b[0m X_train,X_test,Y_train,Y_test\u001b[39m=\u001b[39mtrain_test_split(X,Y,test_size\u001b[39m=\u001b[39m\u001b[39m0.15\u001b[39m,random_state\u001b[39m=\u001b[39m\u001b[39m50\u001b[39m)\n",
      "\u001b[1;31mNameError\u001b[0m: name 'data' is not defined"
     ]
    }
   ],
   "source": [
    "X = data.drop(columns=['Class'])\n",
    "Y = data['Class']\n",
    "\n",
    "X_train,X_test,Y_train,Y_test=train_test_split(X,Y,test_size=0.15,random_state=50)\n",
    "\n",
    "model=KNeighborsClassifier()\n",
    "model.fit(X_train,Y_train)\n",
    "prediction=model.predict(X_test)\n",
    "\n",
    "score=accuracy_score(Y_test,prediction)\n",
    "score"
   ]
  },
  {
   "cell_type": "code",
   "execution_count": null,
   "id": "8db03038",
   "metadata": {},
   "outputs": [
    {
     "ename": "NameError",
     "evalue": "name 'data' is not defined",
     "output_type": "error",
     "traceback": [
      "\u001b[1;31m---------------------------------------------------------------------------\u001b[0m",
      "\u001b[1;31mNameError\u001b[0m                                 Traceback (most recent call last)",
      "\u001b[1;32ma:\\Data Science\\ML\\hackathon 1\\ML model.ipynb Cell 12'\u001b[0m in \u001b[0;36m<cell line: 1>\u001b[1;34m()\u001b[0m\n\u001b[1;32m----> <a href='vscode-notebook-cell:/a%3A/Data%20Science/ML/hackathon%201/ML%20model.ipynb#ch0000011?line=0'>1</a>\u001b[0m X \u001b[39m=\u001b[39m data\u001b[39m.\u001b[39mdrop(columns\u001b[39m=\u001b[39m[\u001b[39m'\u001b[39m\u001b[39mClass\u001b[39m\u001b[39m'\u001b[39m])\n\u001b[0;32m      <a href='vscode-notebook-cell:/a%3A/Data%20Science/ML/hackathon%201/ML%20model.ipynb#ch0000011?line=1'>2</a>\u001b[0m Y \u001b[39m=\u001b[39m data[\u001b[39m'\u001b[39m\u001b[39mClass\u001b[39m\u001b[39m'\u001b[39m]\n\u001b[0;32m      <a href='vscode-notebook-cell:/a%3A/Data%20Science/ML/hackathon%201/ML%20model.ipynb#ch0000011?line=3'>4</a>\u001b[0m X_train,X_test,Y_train,Y_test\u001b[39m=\u001b[39mtrain_test_split(X,Y,test_size\u001b[39m=\u001b[39m\u001b[39m0.15\u001b[39m,random_state\u001b[39m=\u001b[39m\u001b[39m59\u001b[39m)\n",
      "\u001b[1;31mNameError\u001b[0m: name 'data' is not defined"
     ]
    }
   ],
   "source": [
    "X = data.drop(columns=['Class'])\n",
    "Y = data['Class']\n",
    "\n",
    "X_train,X_test,Y_train,Y_test=train_test_split(X,Y,test_size=0.15,random_state=59)\n",
    "\n",
    "model=GaussianNB()\n",
    "model.fit(X_train,Y_train)\n",
    "prediction=model.predict(X_test)\n",
    "\n",
    "score=accuracy_score(Y_test,prediction)\n",
    "score"
   ]
  },
  {
   "cell_type": "code",
   "execution_count": null,
   "id": "e13b1ac2",
   "metadata": {},
   "outputs": [
    {
     "data": {
      "text/plain": [
       "0.7941176470588235"
      ]
     },
     "execution_count": 13,
     "metadata": {},
     "output_type": "execute_result"
    }
   ],
   "source": [
    "X = data.drop(columns=['Class'])\n",
    "Y = data['Class']\n",
    "\n",
    "X_train,X_test,Y_train,Y_test=train_test_split(X,Y,test_size=0.15,random_state=60)\n",
    "\n",
    "model=SVC()\n",
    "model.fit(X_train,Y_train)\n",
    "prediction=model.predict(X_test)\n",
    "\n",
    "score=accuracy_score(Y_test,prediction)\n",
    "score"
   ]
  },
  {
   "cell_type": "code",
   "execution_count": null,
   "id": "2f1bc1a6",
   "metadata": {},
   "outputs": [
    {
     "data": {
      "text/plain": [
       "1    151\n",
       "0     72\n",
       "Name: GENDER, dtype: int64"
      ]
     },
     "execution_count": 14,
     "metadata": {},
     "output_type": "execute_result"
    }
   ],
   "source": [
    "data['GENDER'].value_counts()"
   ]
  },
  {
   "cell_type": "code",
   "execution_count": null,
   "id": "d071d3aa",
   "metadata": {},
   "outputs": [
    {
     "data": {
      "text/plain": [
       "0.42176248989638454"
      ]
     },
     "execution_count": 15,
     "metadata": {},
     "output_type": "execute_result"
    }
   ],
   "source": [
    "from sklearn.metrics import matthews_corrcoef\n",
    "matthews_corrcoef(Y_test, prediction)"
   ]
  },
  {
   "cell_type": "code",
   "execution_count": null,
   "id": "45f3a754",
   "metadata": {},
   "outputs": [
    {
     "data": {
      "text/plain": [
       "SVC()"
      ]
     },
     "execution_count": 16,
     "metadata": {},
     "output_type": "execute_result"
    }
   ],
   "source": [
    "import pickle\n",
    "\n",
    "model"
   ]
  },
  {
   "cell_type": "code",
   "execution_count": null,
   "id": "61040354",
   "metadata": {},
   "outputs": [],
   "source": [
    "pickle.dump(model, open(\"model.pkl\", \"wb\"))"
   ]
  },
  {
   "cell_type": "code",
   "execution_count": null,
   "id": "78433d9c",
   "metadata": {},
   "outputs": [],
   "source": [
    "loaded_model=pickle.load(open(\"model.pkl\", \"rb\"))"
   ]
  },
  {
   "cell_type": "code",
   "execution_count": null,
   "id": "1d54cbec",
   "metadata": {},
   "outputs": [
    {
     "data": {
      "text/plain": [
       "array([1, 0, 1, 1, 0, 1, 1, 1, 0, 0, 1, 1, 1, 1, 0, 1, 0, 1, 1, 1, 1, 1,\n",
       "       1, 1, 1, 1, 1, 1, 1, 1, 1, 1, 1, 1], dtype=int64)"
      ]
     },
     "execution_count": 19,
     "metadata": {},
     "output_type": "execute_result"
    }
   ],
   "source": [
    "loaded_model.predict(X_test)"
   ]
  },
  {
   "cell_type": "code",
   "execution_count": null,
   "id": "866b4e65",
   "metadata": {},
   "outputs": [
    {
     "data": {
      "text/plain": [
       "array([1, 0, 1, 1, 0, 1, 1, 1, 0, 0, 1, 1, 1, 1, 0, 1, 0, 1, 1, 1, 1, 1,\n",
       "       1, 1, 1, 1, 1, 1, 1, 1, 1, 1, 1, 1], dtype=int64)"
      ]
     },
     "execution_count": 20,
     "metadata": {},
     "output_type": "execute_result"
    }
   ],
   "source": [
    "model.predict(X_test)"
   ]
  },
  {
   "cell_type": "code",
   "execution_count": null,
   "id": "99336eae",
   "metadata": {},
   "outputs": [],
   "source": []
  }
 ],
 "metadata": {
  "kernelspec": {
   "display_name": "Python 3.10.5 64-bit (windows store)",
   "language": "python",
   "name": "python3"
  },
  "language_info": {
   "codemirror_mode": {
    "name": "ipython",
    "version": 3
   },
   "file_extension": ".py",
   "mimetype": "text/x-python",
   "name": "python",
   "nbconvert_exporter": "python",
   "pygments_lexer": "ipython3",
   "version": "3.10.7"
  },
  "vscode": {
   "interpreter": {
    "hash": "9e5e6805360a117fd20a0f8e641f5588e7299af9c055f8d45196bcb04a73699d"
   }
  }
 },
 "nbformat": 4,
 "nbformat_minor": 5
}
